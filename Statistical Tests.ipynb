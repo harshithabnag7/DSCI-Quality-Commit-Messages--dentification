{
 "cells": [
  {
   "cell_type": "code",
   "execution_count": 1,
   "id": "67beeb4c",
   "metadata": {},
   "outputs": [],
   "source": [
    "import numpy as np\n",
    "from scipy.stats import ttest_rel\n"
   ]
  },
  {
   "cell_type": "markdown",
   "id": "bd0a749a",
   "metadata": {},
   "source": [
    "## LR model"
   ]
  },
  {
   "cell_type": "code",
   "execution_count": 10,
   "id": "de5a3eda",
   "metadata": {},
   "outputs": [],
   "source": [
    "# Accuracy values for Random Forest Model\n",
    "model_A = np.array([93, 66, 78, 55, 74, 79])\n",
    "\n",
    "# Accuracy values for Logistic Regression model\n",
    "model_B = np.array([87, 62, 73, 51, 74, 62])\n",
    "\n"
   ]
  },
  {
   "cell_type": "code",
   "execution_count": 11,
   "id": "f6cece53",
   "metadata": {},
   "outputs": [
    {
     "name": "stdout",
     "output_type": "stream",
     "text": [
      "Paired t-test results:\n",
      "T-statistic: 2.5506909056931106\n",
      "P-value: 0.05122298943755711\n"
     ]
    }
   ],
   "source": [
    "# Perform the paired t-test\n",
    "t_statistic, p_value = ttest_rel(model_A, model_B)\n",
    "\n",
    "# Print the results\n",
    "print(\"Paired t-test results:\")\n",
    "print(\"T-statistic:\", t_statistic)\n",
    "print(\"P-value:\", p_value)\n"
   ]
  },
  {
   "cell_type": "markdown",
   "id": "924b4fa9",
   "metadata": {},
   "source": [
    "## Bi-LSTM Model"
   ]
  },
  {
   "cell_type": "code",
   "execution_count": 14,
   "id": "39fb0f4d",
   "metadata": {},
   "outputs": [],
   "source": [
    "# Accuracy values for Random Forest Model\n",
    "model_A1 = np.array([93, 66, 78, 55, 74, 79])\n",
    "\n",
    "# Accuracy values for Bi-LSTM model\n",
    "model_B1 = np.array([77, 32, 49, 30, 0, 49])"
   ]
  },
  {
   "cell_type": "code",
   "execution_count": 15,
   "id": "ea956d00",
   "metadata": {},
   "outputs": [
    {
     "name": "stdout",
     "output_type": "stream",
     "text": [
      "Paired t-test results:\n",
      "T-statistic: 4.2005204369545\n",
      "P-value: 0.008485304086711302\n"
     ]
    }
   ],
   "source": [
    "# Perform the paired t-test\n",
    "t_statistic, p_value = ttest_rel(model_A1, model_B1)\n",
    "\n",
    "# Print the results\n",
    "print(\"Paired t-test results:\")\n",
    "print(\"T-statistic:\", t_statistic)\n",
    "print(\"P-value:\", p_value)\n"
   ]
  },
  {
   "cell_type": "markdown",
   "id": "83a58df7",
   "metadata": {},
   "source": [
    "## Bert + Bi-LSTM Model"
   ]
  },
  {
   "cell_type": "code",
   "execution_count": 16,
   "id": "0558ada7",
   "metadata": {},
   "outputs": [],
   "source": [
    "# Accuracy values for Random Forest Model\n",
    "model_A2 = np.array([93, 66, 78, 55, 74, 79])\n",
    "\n",
    "# Accuracy values for Model B\n",
    "model_B2 = np.array([70, 50, 57, 29, 40, 51])\n"
   ]
  },
  {
   "cell_type": "code",
   "execution_count": 17,
   "id": "7433786b",
   "metadata": {},
   "outputs": [
    {
     "name": "stdout",
     "output_type": "stream",
     "text": [
      "Paired t-test results:\n",
      "T-statistic: 9.76732803094641\n",
      "P-value: 0.0001913580111431754\n"
     ]
    }
   ],
   "source": [
    "# Perform the paired t-test\n",
    "t_statistic, p_value = ttest_rel(model_A2, model_B2)\n",
    "\n",
    "# Print the results\n",
    "print(\"Paired t-test results:\")\n",
    "print(\"T-statistic:\", t_statistic)\n",
    "print(\"P-value:\", p_value)\n"
   ]
  },
  {
   "cell_type": "markdown",
   "id": "f2abaf71",
   "metadata": {},
   "source": [
    "## KNN Model"
   ]
  },
  {
   "cell_type": "code",
   "execution_count": 20,
   "id": "6190e710",
   "metadata": {},
   "outputs": [],
   "source": [
    "# Accuracy values for Random Forest Model\n",
    "model_A3 = np.array([93, 66, 78, 55, 74, 79])\n",
    "\n",
    "# Accuracy values for Model B\n",
    "model_B3 = np.array([74, 46, 55, 45, 72, 60])\n"
   ]
  },
  {
   "cell_type": "code",
   "execution_count": 21,
   "id": "5409fc98",
   "metadata": {},
   "outputs": [
    {
     "name": "stdout",
     "output_type": "stream",
     "text": [
      "Paired t-test results:\n",
      "T-statistic: 4.794833742895531\n",
      "P-value: 0.004905950732542084\n"
     ]
    }
   ],
   "source": [
    "# Perform the paired t-test\n",
    "t_statistic, p_value = ttest_rel(model_A3, model_B3)\n",
    "\n",
    "# Print the results\n",
    "print(\"Paired t-test results:\")\n",
    "print(\"T-statistic:\", t_statistic)\n",
    "print(\"P-value:\", p_value)\n"
   ]
  }
 ],
 "metadata": {
  "kernelspec": {
   "display_name": "Python 3 (ipykernel)",
   "language": "python",
   "name": "python3"
  },
  "language_info": {
   "codemirror_mode": {
    "name": "ipython",
    "version": 3
   },
   "file_extension": ".py",
   "mimetype": "text/x-python",
   "name": "python",
   "nbconvert_exporter": "python",
   "pygments_lexer": "ipython3",
   "version": "3.10.11"
  }
 },
 "nbformat": 4,
 "nbformat_minor": 5
}
