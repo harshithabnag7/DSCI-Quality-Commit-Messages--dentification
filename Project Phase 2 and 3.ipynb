{
 "cells": [
  {
   "cell_type": "code",
   "execution_count": 61,
   "id": "18f06e6c",
   "metadata": {},
   "outputs": [],
   "source": [
    "import datetime\n",
    "import warnings\n",
    "from collections import Counter\n",
    "from io import StringIO\n",
    "import pandas as pd\n",
    "import numpy as np\n",
    "import statsmodels.api as sm\n",
    "from joblib import dump\n",
    "from sklearn.dummy import DummyClassifier\n",
    "from sklearn.ensemble import GradientBoostingClassifier\n",
    "from sklearn.ensemble import RandomForestClassifier, AdaBoostClassifier\n",
    "from sklearn.linear_model import LogisticRegression\n",
    "from sklearn.metrics import f1_score, recall_score, precision_score, accuracy_score, confusion_matrix, roc_curve, auc, \\\n",
    "    roc_auc_score\n",
    "from sklearn.metrics import make_scorer\n",
    "from sklearn.model_selection import GridSearchCV\n",
    "from sklearn.model_selection import KFold\n",
    "from sklearn.neighbors import KNeighborsClassifier\n",
    "from sklearn.neural_network import MLPClassifier\n",
    "from sklearn.tree import DecisionTreeClassifier\n",
    "from sklearn.preprocessing import LabelEncoder\n",
    "from sklearn.model_selection import train_test_split\n",
    "\n",
    "SCORING = {'accuracy': 'accuracy', 'precision': make_scorer(precision_score), 'recall': make_scorer(recall_score),\n",
    "           'f1': make_scorer(f1_score),\n",
    "           'AUC': make_scorer(roc_auc_score)}"
   ]
  },
  {
   "cell_type": "code",
   "execution_count": 62,
   "id": "f4d403fe",
   "metadata": {
    "scrolled": false
   },
   "outputs": [],
   "source": [
    "#importing data and creating test/train features\n",
    "label_encoder = LabelEncoder()\n",
    "dfApache = pd.read_excel(\"C:/Users/chels/Desktop/SampleData/ApacheSample.xlsx\")\n",
    "dfJunit = pd.read_excel(\"C:/Users/chels/Desktop/SampleData/junitSample.xlsx\")\n",
    "dfOkhttp = pd.read_excel(\"C:/Users/chels/Desktop/SampleData/okhttpSample.xlsx\")\n",
    "dfRetrofit = pd.read_excel(\"C:/Users/chels/Desktop/SampleData/retrofitSample.xlsx\")\n",
    "dfSpringBoot = pd.read_excel(\"C:/Users/chels/Desktop/SampleData/springBootSample.xlsx\")\n",
    "dfApache\n",
    "\n",
    "\n",
    "trainFeaturesApache, testFeaturesApache, trainLabelsApache, testLabelsApache = train_test_split(\n",
    "    dfApache['message'], dfApache['label'], test_size=0.25,  random_state=42 \n",
    ")\n",
    "trainFeaturesApache = label_encoder.fit_transform(trainFeaturesApache)\n",
    "testFeaturesApache = label_encoder.fit_transform(testFeaturesApache)\n",
    "\n",
    "trainFeaturesJunit, testFeaturesJunit, trainLabelsJunit, testLabelsJunit = train_test_split(\n",
    "    dfJunit['message'], dfJunit['label'], test_size=0.25,  random_state=42 \n",
    ")\n",
    "trainFeaturesJunit = label_encoder.fit_transform(trainFeaturesJunit)\n",
    "testFeaturesJunit = label_encoder.fit_transform(testFeaturesJunit)\n",
    "\n",
    "trainFeaturesOkhttp, testFeaturesOkhttp, trainLabelsOkhttp, testLabelsOkhttp = train_test_split(\n",
    "    dfOkhttp['message'], dfOkhttp['label'], test_size=0.25,  random_state=42 \n",
    ")\n",
    "trainFeaturesOkhttp = label_encoder.fit_transform(trainFeaturesOkhttp)\n",
    "testFeaturesOkhttp = label_encoder.fit_transform(testFeaturesOkhttp)\n",
    "\n",
    "trainFeaturesRetrofit, testFeaturesRetrofit, trainLabelsRetrofit, testLabelsRetrofit = train_test_split(\n",
    "    dfRetrofit['message'], dfRetrofit['label'], test_size=0.25,  random_state=42 \n",
    ")\n",
    "trainFeaturesRetrofit = label_encoder.fit_transform(trainFeaturesRetrofit)\n",
    "testFeaturesRetrofit = label_encoder.fit_transform(testFeaturesRetrofit)\n",
    "\n",
    "trainFeaturesSpringBoot, testFeaturesSpringBoot, trainLabelsSpringBoot, testLabelsSpringBoot = train_test_split(\n",
    "    dfSpringBoot['message'], dfSpringBoot['label'], test_size=0.25,  random_state=42 \n",
    ")\n",
    "trainFeaturesSpringBoot = label_encoder.fit_transform(trainFeaturesSpringBoot)\n",
    "testFeaturesSpringBoot = label_encoder.fit_transform(testFeaturesSpringBoot)"
   ]
  },
  {
   "cell_type": "code",
   "execution_count": 73,
   "id": "a0c21851",
   "metadata": {},
   "outputs": [
    {
     "name": "stdout",
     "output_type": "stream",
     "text": [
      "GridSearchCV is complate!\n",
      "KNN Best using {'algorithm': 'auto', 'n_neighbors': 1} \n"
     ]
    },
    {
     "name": "stderr",
     "output_type": "stream",
     "text": [
      "C:\\Users\\chels\\anaconda3\\lib\\site-packages\\sklearn\\model_selection\\_search.py:969: UserWarning: One or more of the test scores are non-finite: [nan nan nan nan nan nan nan nan nan nan nan nan nan nan nan nan nan nan\n",
      " nan nan nan nan nan nan nan nan nan nan nan nan nan nan nan nan nan nan]\n",
      "  warnings.warn(\n"
     ]
    },
    {
     "data": {
      "text/plain": [
       "KNeighborsClassifier(n_neighbors=1)"
      ]
     },
     "execution_count": 73,
     "metadata": {},
     "output_type": "execute_result"
    }
   ],
   "source": [
    "def get_score_by_grid(grid: GridSearchCV):\n",
    "    print(\"GridSearchCV is complate!\")\n",
    "    accuRank = grid.cv_results_['rank_test_accuracy']\n",
    "    preMean = grid.cv_results_['mean_test_precision']\n",
    "    bestParam = grid.cv_results_['params']\n",
    "    bestIndex = grid.best_index_\n",
    "    i = bestIndex\n",
    "    rank = 1\n",
    "\n",
    "    while preMean[i] < 0.5:\n",
    "        rank += 1\n",
    "        indx = 0\n",
    "        if rank > 20:\n",
    "            break\n",
    "        for num in accuRank:\n",
    "            if num == rank:\n",
    "                i = indx\n",
    "                break\n",
    "            indx += 1\n",
    "    bestIndex = i\n",
    "\n",
    "    res = \"refit by:\" + str(grid.refit) + \" Parameters: \" + str(bestParam[bestIndex])\n",
    "    #logger.info(res)\n",
    "   # print(res)\n",
    "    return bestParam[bestIndex]\n",
    "\n",
    "def KNNClassifier(trainFeatures, trainLabels):\n",
    "    model = KNeighborsClassifier()\n",
    "    fold = KFold(n_splits=10, random_state=5, shuffle=True)\n",
    "    parameter = {'n_neighbors': np.arange(1, 10, 1),\n",
    "                 'algorithm': ['auto', 'ball_tree', 'kd_tree', 'brute']\n",
    "                 }\n",
    "    grid = GridSearchCV(estimator=model, param_grid=parameter, cv=fold,\n",
    "                        scoring=SCORING, refit=\"accuracy\", n_jobs=25)\n",
    "    grid.fit(trainFeatures, trainLabels)\n",
    "    bestParameter = get_score_by_grid(grid)\n",
    "    print(\"KNN Best using %s \" % (bestParameter))\n",
    "    model = KNeighborsClassifier(n_neighbors=bestParameter['n_neighbors'], algorithm=bestParameter['algorithm'])\n",
    "    return model\n",
    "\n",
    "\n",
    "\n",
    "KNNApacheModel = KNNClassifier(trainFeaturesApache.reshape(-1, 1), trainLabelsApache)\n",
    "KNNApacheModel.fit(trainFeaturesApache.reshape(-1, 1), trainLabelsApache)\n"
   ]
  },
  {
   "cell_type": "code",
   "execution_count": 77,
   "id": "3d23962f",
   "metadata": {},
   "outputs": [
    {
     "name": "stdout",
     "output_type": "stream",
     "text": [
      "Accuracy: 0.43902439024390244\n"
     ]
    },
    {
     "name": "stderr",
     "output_type": "stream",
     "text": [
      "C:\\Users\\chels\\anaconda3\\lib\\site-packages\\sklearn\\neighbors\\_classification.py:228: FutureWarning: Unlike other reduction functions (e.g. `skew`, `kurtosis`), the default behavior of `mode` typically preserves the axis it acts along. In SciPy 1.11.0, this behavior will change: the default value of `keepdims` will become False, the `axis` over which the statistic is taken will be eliminated, and the value None will no longer be accepted. Set `keepdims` to True or False to avoid this warning.\n",
      "  mode, _ = stats.mode(_y[neigh_ind, k], axis=1)\n"
     ]
    }
   ],
   "source": [
    "def binClassify(yValid, yPred, yScore):\n",
    "    accuracy_mean = accuracy_score(yValid, yPred)\n",
    "    tn, fp, fn, tp = confusion_matrix(yValid, yPred).ravel()\n",
    "    f1Score = f1_score(yValid, yPred, average=None)\n",
    "    recallScore = recall_score(yValid, yPred, average=None)\n",
    "    precisionScore = precision_score(yValid, yPred, average=None)\n",
    "    weightedPrecision = precision_score(yValid, yPred, average=\"weighted\")\n",
    "    weightedRecall = recall_score(yValid, yPred, average=\"weighted\")\n",
    "    weightedF1 = f1_score(yValid, yPred, average=\"weighted\")\n",
    "\n",
    "    fpr, tpr, thresholds = roc_curve(yValid, yScore, pos_label=0)\n",
    "    aucArea = auc(fpr, tpr)\n",
    "    aucScore = roc_auc_score(y_true=yValid, y_score=yScore)\n",
    "\n",
    "    return weightedPrecision, weightedRecall, weightedF1, accuracy_mean, tn, fp, fn, tp, f1Score, recallScore, precisionScore, fpr, tpr, aucArea, aucScore\n",
    "\n",
    "def modelScore(testFeatures, testLabels, trainedModel):\n",
    "    # logger.info(trainedModel.score(testFeatures, testLabels))\n",
    "    y_valid = testLabels\n",
    "    y_pred = trainedModel.predict(testFeatures)\n",
    "    y_score = trainedModel.predict_proba(testFeatures)[:, 1]\n",
    "    \n",
    "    return y_pred, y_score, y_valid\n",
    "\n",
    "    #weightedPrecision, weightedRecall, weightedF1, accuracy_mean, tn, fp, fn, tp, f1Score, recallScore, precisionScore, fpr, tpr, aucArea, aucScore = binClassify(\n",
    "       # yvalid, y_pred, y_score)\n",
    "\n",
    "    #return accuracy_mean, precisionScore, recallScore, f1Score, aucScore, tn, fp, fn, tp, weightedPrecision, weightedRecall, weightedF1\n",
    "\n",
    "\n",
    "y_pred, y_score,y_valid = modelScore(testFeaturesApache.reshape(-1, 1), testLabelsApache, KNNApacheModel)\n",
    "\n",
    "def calculate_accuracy(y_pred, y_valid):\n",
    "    correct_predictions = (y_pred == y_valid).sum()\n",
    "    total_predictions = len(y_valid)\n",
    "    accuracy = correct_predictions / total_predictions\n",
    "    return accuracy\n",
    "\n",
    "accuracy = calculate_accuracy(y_pred, y_valid)\n",
    "print(\"Accuracy:\", accuracy)"
   ]
  },
  {
   "cell_type": "code",
   "execution_count": 69,
   "id": "de0dca20",
   "metadata": {},
   "outputs": [
    {
     "ename": "NotFittedError",
     "evalue": "This KNeighborsClassifier instance is not fitted yet. Call 'fit' with appropriate arguments before using this estimator.",
     "output_type": "error",
     "traceback": [
      "\u001b[1;31m---------------------------------------------------------------------------\u001b[0m",
      "\u001b[1;31mNotFittedError\u001b[0m                            Traceback (most recent call last)",
      "\u001b[1;32m~\\AppData\\Local\\Temp\\ipykernel_1192\\1034593223.py\u001b[0m in \u001b[0;36m<module>\u001b[1;34m\u001b[0m\n\u001b[1;32m----> 1\u001b[1;33m \u001b[0mmodelScoreKNNApache\u001b[0m \u001b[1;33m=\u001b[0m \u001b[0mmodelScore\u001b[0m\u001b[1;33m(\u001b[0m\u001b[0mtestFeaturesApache\u001b[0m\u001b[1;33m.\u001b[0m\u001b[0mreshape\u001b[0m\u001b[1;33m(\u001b[0m\u001b[1;33m-\u001b[0m\u001b[1;36m1\u001b[0m\u001b[1;33m,\u001b[0m \u001b[1;36m1\u001b[0m\u001b[1;33m)\u001b[0m\u001b[1;33m,\u001b[0m\u001b[0mtestLabelsApache\u001b[0m\u001b[1;33m,\u001b[0m \u001b[0mKNNApacheModel\u001b[0m\u001b[1;33m)\u001b[0m\u001b[1;33m\u001b[0m\u001b[1;33m\u001b[0m\u001b[0m\n\u001b[0m",
      "\u001b[1;32m~\\AppData\\Local\\Temp\\ipykernel_1192\\4136505616.py\u001b[0m in \u001b[0;36mmodelScore\u001b[1;34m(testFeatures, testLabels, trainedModel)\u001b[0m\n\u001b[0;32m     18\u001b[0m     \u001b[1;31m# logger.info(trainedModel.score(testFeatures, testLabels))\u001b[0m\u001b[1;33m\u001b[0m\u001b[1;33m\u001b[0m\u001b[0m\n\u001b[0;32m     19\u001b[0m     \u001b[0myvalid\u001b[0m \u001b[1;33m=\u001b[0m \u001b[0mtestLabels\u001b[0m\u001b[1;33m\u001b[0m\u001b[1;33m\u001b[0m\u001b[0m\n\u001b[1;32m---> 20\u001b[1;33m     \u001b[0my_pred\u001b[0m \u001b[1;33m=\u001b[0m \u001b[0mtrainedModel\u001b[0m\u001b[1;33m.\u001b[0m\u001b[0mpredict\u001b[0m\u001b[1;33m(\u001b[0m\u001b[0mtestFeatures\u001b[0m\u001b[1;33m)\u001b[0m\u001b[1;33m\u001b[0m\u001b[1;33m\u001b[0m\u001b[0m\n\u001b[0m\u001b[0;32m     21\u001b[0m     \u001b[0my_score\u001b[0m \u001b[1;33m=\u001b[0m \u001b[0mtrainedModel\u001b[0m\u001b[1;33m.\u001b[0m\u001b[0mpredict_proba\u001b[0m\u001b[1;33m(\u001b[0m\u001b[0mtestFeatures\u001b[0m\u001b[1;33m)\u001b[0m\u001b[1;33m[\u001b[0m\u001b[1;33m:\u001b[0m\u001b[1;33m,\u001b[0m \u001b[1;36m1\u001b[0m\u001b[1;33m]\u001b[0m\u001b[1;33m\u001b[0m\u001b[1;33m\u001b[0m\u001b[0m\n\u001b[0;32m     22\u001b[0m \u001b[1;33m\u001b[0m\u001b[0m\n",
      "\u001b[1;32m~\\anaconda3\\lib\\site-packages\\sklearn\\neighbors\\_classification.py\u001b[0m in \u001b[0;36mpredict\u001b[1;34m(self, X)\u001b[0m\n\u001b[0;32m    212\u001b[0m             \u001b[0mClass\u001b[0m \u001b[0mlabels\u001b[0m \u001b[1;32mfor\u001b[0m \u001b[0meach\u001b[0m \u001b[0mdata\u001b[0m \u001b[0msample\u001b[0m\u001b[1;33m.\u001b[0m\u001b[1;33m\u001b[0m\u001b[1;33m\u001b[0m\u001b[0m\n\u001b[0;32m    213\u001b[0m         \"\"\"\n\u001b[1;32m--> 214\u001b[1;33m         \u001b[0mneigh_dist\u001b[0m\u001b[1;33m,\u001b[0m \u001b[0mneigh_ind\u001b[0m \u001b[1;33m=\u001b[0m \u001b[0mself\u001b[0m\u001b[1;33m.\u001b[0m\u001b[0mkneighbors\u001b[0m\u001b[1;33m(\u001b[0m\u001b[0mX\u001b[0m\u001b[1;33m)\u001b[0m\u001b[1;33m\u001b[0m\u001b[1;33m\u001b[0m\u001b[0m\n\u001b[0m\u001b[0;32m    215\u001b[0m         \u001b[0mclasses_\u001b[0m \u001b[1;33m=\u001b[0m \u001b[0mself\u001b[0m\u001b[1;33m.\u001b[0m\u001b[0mclasses_\u001b[0m\u001b[1;33m\u001b[0m\u001b[1;33m\u001b[0m\u001b[0m\n\u001b[0;32m    216\u001b[0m         \u001b[0m_y\u001b[0m \u001b[1;33m=\u001b[0m \u001b[0mself\u001b[0m\u001b[1;33m.\u001b[0m\u001b[0m_y\u001b[0m\u001b[1;33m\u001b[0m\u001b[1;33m\u001b[0m\u001b[0m\n",
      "\u001b[1;32m~\\anaconda3\\lib\\site-packages\\sklearn\\neighbors\\_base.py\u001b[0m in \u001b[0;36mkneighbors\u001b[1;34m(self, X, n_neighbors, return_distance)\u001b[0m\n\u001b[0;32m    698\u001b[0m                [2]]...)\n\u001b[0;32m    699\u001b[0m         \"\"\"\n\u001b[1;32m--> 700\u001b[1;33m         \u001b[0mcheck_is_fitted\u001b[0m\u001b[1;33m(\u001b[0m\u001b[0mself\u001b[0m\u001b[1;33m)\u001b[0m\u001b[1;33m\u001b[0m\u001b[1;33m\u001b[0m\u001b[0m\n\u001b[0m\u001b[0;32m    701\u001b[0m \u001b[1;33m\u001b[0m\u001b[0m\n\u001b[0;32m    702\u001b[0m         \u001b[1;32mif\u001b[0m \u001b[0mn_neighbors\u001b[0m \u001b[1;32mis\u001b[0m \u001b[1;32mNone\u001b[0m\u001b[1;33m:\u001b[0m\u001b[1;33m\u001b[0m\u001b[1;33m\u001b[0m\u001b[0m\n",
      "\u001b[1;32m~\\anaconda3\\lib\\site-packages\\sklearn\\utils\\validation.py\u001b[0m in \u001b[0;36mcheck_is_fitted\u001b[1;34m(estimator, attributes, msg, all_or_any)\u001b[0m\n\u001b[0;32m   1220\u001b[0m \u001b[1;33m\u001b[0m\u001b[0m\n\u001b[0;32m   1221\u001b[0m     \u001b[1;32mif\u001b[0m \u001b[1;32mnot\u001b[0m \u001b[0mfitted\u001b[0m\u001b[1;33m:\u001b[0m\u001b[1;33m\u001b[0m\u001b[1;33m\u001b[0m\u001b[0m\n\u001b[1;32m-> 1222\u001b[1;33m         \u001b[1;32mraise\u001b[0m \u001b[0mNotFittedError\u001b[0m\u001b[1;33m(\u001b[0m\u001b[0mmsg\u001b[0m \u001b[1;33m%\u001b[0m \u001b[1;33m{\u001b[0m\u001b[1;34m\"name\"\u001b[0m\u001b[1;33m:\u001b[0m \u001b[0mtype\u001b[0m\u001b[1;33m(\u001b[0m\u001b[0mestimator\u001b[0m\u001b[1;33m)\u001b[0m\u001b[1;33m.\u001b[0m\u001b[0m__name__\u001b[0m\u001b[1;33m}\u001b[0m\u001b[1;33m)\u001b[0m\u001b[1;33m\u001b[0m\u001b[1;33m\u001b[0m\u001b[0m\n\u001b[0m\u001b[0;32m   1223\u001b[0m \u001b[1;33m\u001b[0m\u001b[0m\n\u001b[0;32m   1224\u001b[0m \u001b[1;33m\u001b[0m\u001b[0m\n",
      "\u001b[1;31mNotFittedError\u001b[0m: This KNeighborsClassifier instance is not fitted yet. Call 'fit' with appropriate arguments before using this estimator."
     ]
    }
   ],
   "source": []
  },
  {
   "cell_type": "code",
   "execution_count": null,
   "id": "72d9fac9",
   "metadata": {},
   "outputs": [],
   "source": []
  }
 ],
 "metadata": {
  "kernelspec": {
   "display_name": "Python 3 (ipykernel)",
   "language": "python",
   "name": "python3"
  },
  "language_info": {
   "codemirror_mode": {
    "name": "ipython",
    "version": 3
   },
   "file_extension": ".py",
   "mimetype": "text/x-python",
   "name": "python",
   "nbconvert_exporter": "python",
   "pygments_lexer": "ipython3",
   "version": "3.9.13"
  }
 },
 "nbformat": 4,
 "nbformat_minor": 5
}
